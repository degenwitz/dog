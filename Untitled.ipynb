{
 "cells": [
  {
   "cell_type": "code",
   "execution_count": 1,
   "id": "3d343f63",
   "metadata": {},
   "outputs": [],
   "source": [
    "class Board:\n",
    "  def __init__(self):\n",
    "    self.board = [None*16*4]\n",
    "\n",
    "  def get_board(self):\n",
    "    return self.board\n"
   ]
  },
  {
   "cell_type": "code",
   "execution_count": 2,
   "id": "0f0056e0",
   "metadata": {},
   "outputs": [],
   "source": [
    "class Figur:\n",
    "  def __init__(self):\n",
    "    pass"
   ]
  },
  {
   "cell_type": "code",
   "execution_count": 3,
   "id": "599e9ce2",
   "metadata": {},
   "outputs": [],
   "source": [
    "class Card:\n",
    "  def __init__(self,color):\n",
    "    self.__color = color\n",
    "    self.enter_if_possible = True\n",
    "\n",
    "  def get_color(self):\n",
    "    return self.__color\n",
    "  def get_enter_if_possible(self):\n",
    "    return self.enter_if_possible\n",
    "  \n",
    "  def set_enter_if_possible(self, enter:bool):\n",
    "    self.enter_if_possible = enter"
   ]
  },
  {
   "cell_type": "code",
   "execution_count": 4,
   "id": "01a6ccac",
   "metadata": {},
   "outputs": [],
   "source": [
    "class EasyCard(Card):\n",
    "  def __init__(self, color, value):\n",
    "    super().__init__(color)\n",
    "    self.value = value\n",
    "    self.target_figure = None\n",
    "\n",
    "\n",
    "  def get_value(self):\n",
    "    return self.value\n",
    "  def get_target_figure(self):\n",
    "    return self.target_figure\n",
    "\n",
    "  def set_target_figure(self, figure:Figur):\n",
    "    self.target_figure = figure"
   ]
  },
  {
   "cell_type": "code",
   "execution_count": 5,
   "id": "a764f05d",
   "metadata": {},
   "outputs": [],
   "source": [
    "class Game:\n",
    "  def __inti__(self):\n",
    "    self.board = Board()"
   ]
  },
  {
   "cell_type": "code",
   "execution_count": 1,
   "id": "d1177598",
   "metadata": {},
   "outputs": [],
   "source": [
    "import sys\n",
    "from PyQt5.QtWidgets import QApplication,  QWidget,  QLabel, QMainWindow, QPushButton, QAction\n",
    "\n",
    "class App(QMainWindow):      # Opening Window\n",
    "    def __init__(self):\n",
    "        super().__init__()\n",
    "        self.setWindowTitle('window title')\n",
    "\n",
    "        self.setObjectName('object name')\n",
    "\n",
    "        stylesheet = '''\n",
    "    #MainWindow {\n",
    "        background-image: url(board.png);\n",
    "        background-repeat: no-repeat;\n",
    "        background-position: center;\n",
    "    }\n",
    "'''        \n",
    "        self.setStyleSheet(stylesheet)\n",
    "        self.show()"
   ]
  },
  {
   "cell_type": "code",
   "execution_count": 7,
   "id": "5f24ceff",
   "metadata": {},
   "outputs": [],
   "source": []
  },
  {
   "cell_type": "code",
   "execution_count": null,
   "id": "4c2d2d05",
   "metadata": {},
   "outputs": [],
   "source": [
    "window()"
   ]
  },
  {
   "cell_type": "code",
   "execution_count": 2,
   "id": "4e5d6537",
   "metadata": {},
   "outputs": [
    {
     "ename": "SystemExit",
     "evalue": "0",
     "output_type": "error",
     "traceback": [
      "An exception has occurred, use %tb to see the full traceback.\n",
      "\u001b[0;31mSystemExit\u001b[0m\u001b[0;31m:\u001b[0m 0\n"
     ]
    },
    {
     "name": "stderr",
     "output_type": "stream",
     "text": [
      "/home/dimi/.local/lib/python3.11/site-packages/IPython/core/interactiveshell.py:3468: UserWarning: To exit: use 'exit', 'quit', or Ctrl-D.\n",
      "  warn(\"To exit: use 'exit', 'quit', or Ctrl-D.\", stacklevel=1)\n"
     ]
    }
   ],
   "source": [
    "if(True):\n",
    "    app = QApplication(sys.argv)\n",
    "    ex = App()\n",
    "    sys.exit(app.exec_())"
   ]
  },
  {
   "cell_type": "code",
   "execution_count": null,
   "id": "28779218",
   "metadata": {},
   "outputs": [],
   "source": []
  }
 ],
 "metadata": {
  "kernelspec": {
   "display_name": "Python 3 (ipykernel)",
   "language": "python",
   "name": "python3"
  },
  "language_info": {
   "codemirror_mode": {
    "name": "ipython",
    "version": 3
   },
   "file_extension": ".py",
   "mimetype": "text/x-python",
   "name": "python",
   "nbconvert_exporter": "python",
   "pygments_lexer": "ipython3",
   "version": "3.11.6"
  }
 },
 "nbformat": 4,
 "nbformat_minor": 5
}
