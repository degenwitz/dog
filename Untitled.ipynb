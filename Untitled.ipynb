{
 "cells": [
  {
   "cell_type": "code",
   "execution_count": null,
   "id": "3d343f63",
   "metadata": {},
   "outputs": [],
   "source": [
    "class Board:\n",
    "  def __init__(self):\n",
    "    self.board = [None*16*]\n",
    "\n",
    "  def get_board(self):\n",
    "    return self.board\n"
   ]
  },
  {
   "cell_type": "code",
   "execution_count": null,
   "id": "0f0056e0",
   "metadata": {},
   "outputs": [],
   "source": [
    "class Figur:\n",
    "  def __init__(self):\n",
    "    pass"
   ]
  },
  {
   "cell_type": "code",
   "execution_count": null,
   "id": "599e9ce2",
   "metadata": {},
   "outputs": [],
   "source": [
    "class Card:\n",
    "  def __init__(self,color):\n",
    "    self.__color = color\n",
    "    self.enter_if_possible = True\n",
    "\n",
    "  def get_color(self):\n",
    "    return self.__color\n",
    "  def get_enter_if_possible(self):\n",
    "    return self.enter_if_possible\n",
    "  \n",
    "  def set_enter_if_possible(self, enter:bool):\n",
    "    self.enter_if_possible = enter"
   ]
  },
  {
   "cell_type": "code",
   "execution_count": null,
   "id": "01a6ccac",
   "metadata": {},
   "outputs": [],
   "source": [
    "class EasyCard(Card):\n",
    "  def __init__(self, color, value):\n",
    "    super().__init__(color)\n",
    "    self.value = value\n",
    "    self.target_figure = None\n",
    "\n",
    "\n",
    "  def get_value(self):\n",
    "    return self.value\n",
    "  def get_target_figure(self):\n",
    "    return self.target_figure\n",
    "\n",
    "  def set_target_figure(self, figure:Figur):\n",
    "    self.target_figure = figure"
   ]
  },
  {
   "cell_type": "code",
   "execution_count": null,
   "id": "a764f05d",
   "metadata": {},
   "outputs": [],
   "source": [
    "class Game:\n",
    "  def __inti__(self):\n",
    "    self.board = Board()"
   ]
  },
  {
   "cell_type": "code",
   "execution_count": null,
   "id": "d1177598",
   "metadata": {},
   "outputs": [],
   "source": []
  }
 ],
 "metadata": {
  "kernelspec": {
   "display_name": "Python 3 (ipykernel)",
   "language": "python",
   "name": "python3"
  },
  "language_info": {
   "codemirror_mode": {
    "name": "ipython",
    "version": 3
   },
   "file_extension": ".py",
   "mimetype": "text/x-python",
   "name": "python",
   "nbconvert_exporter": "python",
   "pygments_lexer": "ipython3",
   "version": "3.8.10"
  }
 },
 "nbformat": 4,
 "nbformat_minor": 5
}
